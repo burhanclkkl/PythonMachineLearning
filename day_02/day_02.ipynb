{
 "cells": [
  {
   "cell_type": "code",
   "execution_count": 1,
   "id": "d48c54a8",
   "metadata": {},
   "outputs": [],
   "source": [
    "import pandas as pd\n",
    "from sklearn.linear_model import LinearRegression"
   ]
  },
  {
   "cell_type": "code",
   "execution_count": 2,
   "id": "4bcd97c4",
   "metadata": {},
   "outputs": [],
   "source": [
    "linear_regression_datasetcsv = pd.read_csv(\"linear_regression_dataset.csv\", sep=\";\")\n",
    "df = pd.DataFrame(linear_regression_datasetcsv, columns= [\"deneyim\",\"maas\"])"
   ]
  },
  {
   "cell_type": "code",
   "execution_count": 3,
   "id": "51fdea28",
   "metadata": {},
   "outputs": [
    {
     "data": {
      "text/html": [
       "<div>\n",
       "<style scoped>\n",
       "    .dataframe tbody tr th:only-of-type {\n",
       "        vertical-align: middle;\n",
       "    }\n",
       "\n",
       "    .dataframe tbody tr th {\n",
       "        vertical-align: top;\n",
       "    }\n",
       "\n",
       "    .dataframe thead th {\n",
       "        text-align: right;\n",
       "    }\n",
       "</style>\n",
       "<table border=\"1\" class=\"dataframe\">\n",
       "  <thead>\n",
       "    <tr style=\"text-align: right;\">\n",
       "      <th></th>\n",
       "      <th>deneyim</th>\n",
       "      <th>maas</th>\n",
       "    </tr>\n",
       "  </thead>\n",
       "  <tbody>\n",
       "    <tr>\n",
       "      <th>0</th>\n",
       "      <td>0.5</td>\n",
       "      <td>2500</td>\n",
       "    </tr>\n",
       "    <tr>\n",
       "      <th>1</th>\n",
       "      <td>0.0</td>\n",
       "      <td>2250</td>\n",
       "    </tr>\n",
       "    <tr>\n",
       "      <th>2</th>\n",
       "      <td>1.0</td>\n",
       "      <td>2750</td>\n",
       "    </tr>\n",
       "    <tr>\n",
       "      <th>3</th>\n",
       "      <td>5.0</td>\n",
       "      <td>8000</td>\n",
       "    </tr>\n",
       "    <tr>\n",
       "      <th>4</th>\n",
       "      <td>8.0</td>\n",
       "      <td>9000</td>\n",
       "    </tr>\n",
       "  </tbody>\n",
       "</table>\n",
       "</div>"
      ],
      "text/plain": [
       "   deneyim  maas\n",
       "0      0.5  2500\n",
       "1      0.0  2250\n",
       "2      1.0  2750\n",
       "3      5.0  8000\n",
       "4      8.0  9000"
      ]
     },
     "execution_count": 3,
     "metadata": {},
     "output_type": "execute_result"
    }
   ],
   "source": [
    "linear_regression_datasetcsv.head()"
   ]
  },
  {
   "cell_type": "code",
   "execution_count": 4,
   "id": "3a8cbdd3",
   "metadata": {},
   "outputs": [
    {
     "name": "stdout",
     "output_type": "stream",
     "text": [
      "[ 0.5  0.   1.   5.   8.   4.  15.   7.   3.   2.  12.  10.  14.   6. ] [ 2500  2250  2750  8000  9000  6900 20000  8500  6000  3500 15000 13000\n",
      " 18000  7500] \n",
      "\n",
      "(14,) \n",
      " (14,) \n",
      "\n",
      "(14, 1)\n",
      "(14, 1)\n"
     ]
    }
   ],
   "source": [
    "linear_reg = LinearRegression()\n",
    "\n",
    "x = df.deneyim.values # x değerleri\n",
    "y = df.maas.values # y değerleri\n",
    "print (x, y, \"\\n\")\n",
    "print (x.shape, \"\\n\", y.shape,\"\\n\") # değerlerin shape'leri\n",
    "print(x.reshape(-1,1).shape)\n",
    "print(y.reshape(-1,1).shape)"
   ]
  },
  {
   "cell_type": "code",
   "execution_count": 5,
   "id": "e235e9c1",
   "metadata": {},
   "outputs": [],
   "source": [
    "x = df.deneyim.values.reshape(-1,1)\n",
    "y = df.maas.values.reshape(-1,1)"
   ]
  },
  {
   "cell_type": "code",
   "execution_count": 6,
   "id": "9b6e8e04",
   "metadata": {},
   "outputs": [
    {
     "name": "stdout",
     "output_type": "stream",
     "text": [
      "LinearRegression()\n"
     ]
    }
   ],
   "source": [
    "linear_reg.fit(x,y)\n",
    "print(linear_reg)"
   ]
  },
  {
   "cell_type": "code",
   "execution_count": 7,
   "id": "53c374a7",
   "metadata": {},
   "outputs": [
    {
     "name": "stdout",
     "output_type": "stream",
     "text": [
      "b0:   [[1663.89519747]]\n",
      "b0_:  [1663.89519747]\n",
      "b1 :  [[1138.34819698]]\n",
      "12 yillik deneyim maasi : 15324.07356123\n",
      "12 yillik deneyim maasi : [[15324.07356118]]\n"
     ]
    }
   ],
   "source": [
    "b0 = linear_reg.predict([[0]])\n",
    "print(\"b0:  \", b0)\n",
    "\n",
    "b0_ = linear_reg.intercept_\n",
    "print(\"b0_: \", b0_)\n",
    "\n",
    "# x = 0 iken y = b0 (y = b0 + (b1*x))\n",
    "\n",
    "b1 = linear_reg.coef_\n",
    "print(\"b1 : \", b1)\n",
    "\n",
    "# maas = 1663.89519747 + (1138.34819698 * deneyim)\n",
    "maas = ( 1663.89519747 + (1138.34819698 * 12) )\n",
    "print(\"12 yillik deneyim maasi :\", maas)  \n",
    "print(\"12 yillik deneyim maasi :\", linear_reg.predict([[12]]))"
   ]
  },
  {
   "cell_type": "code",
   "execution_count": 8,
   "id": "6854ffcd",
   "metadata": {},
   "outputs": [],
   "source": [
    "import numpy as np\n",
    "array = np.array([0,1,2,3,4,5,6,7,8,9,10,11,12,13,14,15]).reshape(-1,1) # deneyimler"
   ]
  },
  {
   "cell_type": "code",
   "execution_count": 9,
   "id": "3a13ca23",
   "metadata": {},
   "outputs": [
    {
     "data": {
      "image/png": "[encoded data removed]",
      "text/plain": [
       "<Figure size 640x480 with 1 Axes>"
      ]
     },
     "metadata": {},
     "output_type": "display_data"
    }
   ],
   "source": [
    "import matplotlib.pyplot as plt \n",
    "plt.scatter(x, y, c=\"g\", marker=\".\")\n",
    "plt.show()"
   ]
  },
  {
   "cell_type": "code",
   "execution_count": 10,
   "id": "15230e6a",
   "metadata": {},
   "outputs": [
    {
     "data": {
      "image/png": "[encoded data removed]",
      "text/plain": [
       "<Figure size 640x480 with 1 Axes>"
      ]
     },
     "metadata": {},
     "output_type": "display_data"
    }
   ],
   "source": [
    "y_head = linear_reg.predict(array) #maaslar\n",
    "plt.scatter(x, y, c=\"b\")\n",
    "plt.plot(array,y_head, c=\"r\")\n",
    "plt.show()"
   ]
  }
 ],
 "metadata": {
  "kernelspec": {
   "display_name": "Python 3 (ipykernel)",
   "language": "python",
   "name": "python3"
  },
  "language_info": {
   "codemirror_mode": {
    "name": "ipython",
    "version": 3
   },
   "file_extension": ".py",
   "mimetype": "text/x-python",
   "name": "python",
   "nbconvert_exporter": "python",
   "pygments_lexer": "ipython3",
   "version": "3.8.16"
  }
 },
 "nbformat": 4,
 "nbformat_minor": 5
}
